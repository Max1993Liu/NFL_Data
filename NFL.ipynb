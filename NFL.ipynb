{
 "cells": [
  {
   "cell_type": "code",
   "execution_count": 111,
   "metadata": {
    "collapsed": false
   },
   "outputs": [],
   "source": [
    "import numpy as np\n",
    "import pandas as pd\n",
    "import seaborn as sns\n",
    "import matplotlib.pyplot as plt\n",
    "from __future__ import division\n",
    "%matplotlib inline\n",
    "plt.rcParams['figure.figsize'] = (18.0, 10.0)"
   ]
  },
  {
   "cell_type": "code",
   "execution_count": 99,
   "metadata": {
    "collapsed": false
   },
   "outputs": [
    {
     "name": "stdout",
     "output_type": "stream",
     "text": [
      "Team names in qb_15 not in game_15 data:\n",
      " ['NOR', 'KAN', 'GNB', 'SDG', 'TAM', 'SFO', 'JAX']\n",
      "Team names in rev_15 not in game_15 data:\n",
      " ['JAX']\n",
      "Team names in team_15 not in game_15 data:\n",
      " ['JAX']\n",
      "\n"
     ]
    }
   ],
   "source": [
    "#load data\n",
    "game_15 = pd.read_csv('./data/game_2015.csv')\n",
    "qb_15 = pd.read_csv('./data/qb_15.csv')\n",
    "rev_15 = pd.read_csv('./data/rev_2015.csv')\n",
    "team_15 = pd.read_csv('./data/team_2015.csv')\n",
    "\n",
    "#difference in team names\n",
    "print 'Team names in qb_15 not in game_15 data:\\n {}'.format([i for i in qb_15.Tm if i not in game_15.h_name.tolist()])\n",
    "print 'Team names in rev_15 not in game_15 data:\\n {}'.format([i for i in rev_15.Team if i not in game_15.h_name.tolist()])\n",
    "print 'Team names in team_15 not in game_15 data:\\n {}\\n'.format([i for i in team_15.Tm if i not in game_15.h_name.tolist()])\n",
    "tm_map = {'NOR':'NO', 'KAN':'KC', 'GNB':'GB', 'SDG':'SD', 'TAM':'TB', 'SFO':'SF','JAX':'JAC'}\n",
    "\n",
    "#replace team names\n",
    "qb_15['Tm'] = qb_15['Tm'].replace(tm_map)\n",
    "rev_15['Team'] = rev_15['Team'].replace(tm_map)\n",
    "team_15['Tm'] = team_15['Tm'].replace(tm_map)\n",
    "team_15['score_diff'] = team_15.score - team_15.oppo_score\n",
    "#team_15.drop(['score', 'oppo_score'], axis = 1, inplace = True)\n",
    "\n",
    "#Table join\n",
    "data_15 = game_15.drop(['h_score', 'a_score'], axis = 1)\n",
    "#QB\n",
    "data_15 = pd.merge(data_15, qb_15, left_on='h_name', right_on='Tm')\n",
    "data_15 = pd.merge(data_15, qb_15, left_on='a_name', right_on='Tm', suffixes=('_home', '_away'))\n",
    "#REV\n",
    "data_15 = pd.merge(data_15, rev_15, left_on='h_name', right_on='Team')\n",
    "data_15 = pd.merge(data_15, rev_15, left_on='a_name', right_on='Team', suffixes=('_home','_away'))\n",
    "#SCORE_DIFF\n",
    "data_15 = pd.merge(data_15, team_15, left_on='h_name', right_on='Tm')\n",
    "data_15 = pd.merge(data_15, team_15, left_on='a_name', right_on='Tm', suffixes=('_home','_away'))\n",
    "\n",
    "#clean up\n",
    "data_15['age_diff'] = data_15.Age_home - data_15.Age_away\n",
    "data_15['qbr_diff'] = data_15.QBR_home - data_15.QBR_away\n",
    "data_15['rev_diff'] = data_15.value_2015_home - data_15.value_2015_away\n",
    "data_15['score_diff'] = data_15.score_diff_home - data_15.score_diff_away\n",
    "data_15['injury_diff'] = data_15.injure_home - data_15.injure_away\n",
    "data_15['result_diff'] = data_15.h_min_a\n",
    "\n",
    "col_names = [i for i in data_15.columns if i.endswith('diff')]\n",
    "data_15 = data_15[col_names]\n",
    "assert np.sum(data_15.isnull().sum()) == 0"
   ]
  },
  {
   "cell_type": "code",
   "execution_count": 116,
   "metadata": {
    "collapsed": false
   },
   "outputs": [
    {
     "name": "stdout",
     "output_type": "stream",
     "text": [
      "Team names in qb_16 not in game_16 data:\n",
      " ['GNB', 'NOR', 'KAN', 'TAM', 'SDG', 'SFO', 'LAR', nan]\n",
      "Team names in rev_16 not in game_16 data:\n",
      " []\n",
      "Team names in team_16 not in game_16 data:\n",
      " []\n",
      "\n"
     ]
    }
   ],
   "source": [
    "#same thing with 2016 data\n",
    "game_16 = pd.read_csv('./data/game_2016.csv')\n",
    "qb_16 = pd.read_csv('./data/qb_16.csv')\n",
    "rev_16 = pd.read_csv('./data/rev_2016.csv')\n",
    "team_16 = pd.read_csv('./data/team_2016.csv')\n",
    "print 'Team names in qb_16 not in game_16 data:\\n {}'.format([i for i in qb_16.Tm if i not in game_16.h_name.tolist()])\n",
    "print 'Team names in rev_16 not in game_16 data:\\n {}'.format([i for i in rev_16.Team if i not in game_16.h_name.tolist()])\n",
    "print 'Team names in team_16 not in game_16 data:\\n {}\\n'.format([i for i in team_16.Tm if i not in game_16.h_name.tolist()])\n",
    "qb_16['Tm'] = qb_16['Tm'].replace(tm_map)\n",
    "rev_16['Team'] = rev_16['Team'].replace(tm_map)\n",
    "team_16['Tm'] = team_16['Tm'].replace(tm_map)\n",
    "team_16['score_diff'] = team_16.score - team_16.oppo_score\n",
    "team_16.drop(['score', 'oppo_score'], axis = 1, inplace = True)\n",
    "\n",
    "data_16 = game_16.drop(['h_score', 'a_score'], axis = 1)\n",
    "data_16 = pd.merge(data_16, qb_16, left_on='h_name', right_on='Tm')\n",
    "data_16 = pd.merge(data_16, qb_16, left_on='a_name', right_on='Tm', suffixes=('_home', '_away'))\n",
    "data_16 = pd.merge(data_16, rev_16, left_on='h_name', right_on='Team')\n",
    "data_16 = pd.merge(data_16, rev_16, left_on='a_name', right_on='Team', suffixes=('_home','_away'))\n",
    "data_16 = pd.merge(data_16, team_16, left_on='h_name', right_on='Tm')\n",
    "data_16 = pd.merge(data_16, team_16, left_on='a_name', right_on='Tm', suffixes=('_home','_away'))\n",
    "\n",
    "data_16['age_diff'] = data_16.Age_home - data_16.Age_away\n",
    "data_16['qbr_diff'] = data_16.QBR_home - data_16.QBR_away\n",
    "data_16['rev_diff'] = data_16.value_home - data_16.value_away\n",
    "data_16['score_diff'] = data_16.score_diff_home - data_16.score_diff_away\n",
    "data_16['injury_diff'] = data_16.injure_home - data_16.injure_away\n",
    "data_16['result_diff'] = data_16.h_min_a\n",
    "\n",
    "col_names = [i for i in data_16.columns if i.endswith('diff')]\n",
    "data_16 = data_16[col_names]\n",
    "data = pd.concat([data_15, data_16], axis = 0)\n",
    "data['result'] = [0 if i < 0 else 1 for i in data['result_diff']] \n",
    "assert np.sum(data_16.isnull().sum()) == 0"
   ]
  },
  {
   "cell_type": "code",
   "execution_count": 127,
   "metadata": {
    "collapsed": false
   },
   "outputs": [
    {
     "data": {
      "text/plain": [
       "<matplotlib.axes._subplots.AxesSubplot at 0x1207d2590>"
      ]
     },
     "execution_count": 127,
     "metadata": {},
     "output_type": "execute_result"
    },
    {
     "data": {
      "image/png": "[encoded data removed]",
      "text/plain": [
       "<matplotlib.figure.Figure at 0x120942810>"
      ]
     },
     "metadata": {},
     "output_type": "display_data"
    }
   ],
   "source": [
    "sns.countplot(data.result)\n",
    "#balanced label"
   ]
  },
  {
   "cell_type": "code",
   "execution_count": 117,
   "metadata": {
    "collapsed": false
   },
   "outputs": [
    {
     "data": {
      "text/plain": [
       "<matplotlib.axes._subplots.AxesSubplot at 0x11d801350>"
      ]
     },
     "execution_count": 117,
     "metadata": {},
     "output_type": "execute_result"
    },
    {
     "data": {
      "image/png": "[encoded data removed]",
      "text/plain": [
       "<matplotlib.figure.Figure at 0x11d735ed0>"
      ]
     },
     "metadata": {},
     "output_type": "display_data"
    }
   ],
   "source": [
    "#correlations\n",
    "fig = plt.figure()\n",
    "sns.set(font_scale=1)\n",
    "sns.heatmap(data.corr(), annot=True, annot_kws={\"size\": 10})"
   ]
  },
  {
   "cell_type": "code",
   "execution_count": 232,
   "metadata": {
    "collapsed": false
   },
   "outputs": [
    {
     "name": "stdout",
     "output_type": "stream",
     "text": [
      "Logistic Regreesion accuracy: 61.3793103448%\n"
     ]
    }
   ],
   "source": [
    "from sklearn.model_selection import GridSearchCV\n",
    "from sklearn.model_selection import train_test_split\n",
    "from sklearn.linear_model import LogisticRegression\n",
    "from sklearn.preprocessing import StandardScaler\n",
    "\n",
    "X = data.drop(['result', 'result_diff', 'injury_diff'], axis = 1)\n",
    "Y = data['result']\n",
    "\n",
    "#standardize\n",
    "scaler = StandardScaler()\n",
    "X = scaler.fit_transform(X)\n",
    "X = np.hstack([X, data['injury_diff'].values.reshape(-1,1)])\n",
    "\n",
    "train_x, test_x, train_y, test_y = train_test_split(X,Y, test_size=0.3, random_state=0)\n",
    "\n",
    "params = {'C':[0.1, 0.5, 1, 5, 10]}\n",
    "clf = GridSearchCV(LogisticRegression(), params, cv=5, n_jobs=-1).fit(train_x, train_y)\n",
    "\n",
    "logistic_regression_accuracy = 100* clf.score(test_x, test_y)\n",
    "print 'Logistic Regreesion accuracy: {}%'.format(logistic_regression_accuracy)"
   ]
  },
  {
   "cell_type": "code",
   "execution_count": 233,
   "metadata": {
    "collapsed": false
   },
   "outputs": [
    {
     "name": "stdout",
     "output_type": "stream",
     "text": [
      "LDA accuracy: 61.3793103448%\n"
     ]
    }
   ],
   "source": [
    "from sklearn.discriminant_analysis import LinearDiscriminantAnalysis\n",
    "\n",
    "LDA = LinearDiscriminantAnalysis().fit(train_x, train_y)\n",
    "LDA_accuracy = 100*LDA.score(test_x, test_y)\n",
    "print 'LDA accuracy: {}%'.format(LDA_accuracy)"
   ]
  },
  {
   "cell_type": "code",
   "execution_count": 234,
   "metadata": {
    "collapsed": false
   },
   "outputs": [
    {
     "name": "stdout",
     "output_type": "stream",
     "text": [
      "Naive Beyas accuracy: 55.1724137931%\n"
     ]
    }
   ],
   "source": [
    "from sklearn.naive_bayes import GaussianNB\n",
    "\n",
    "clf = GaussianNB().fit(train_x, train_y)\n",
    "naive_beyas_accuracy = 100*clf.score(test_x, test_y)\n",
    "print 'Naive Beyas accuracy: {}%'.format(naive_beyas_accuracy)"
   ]
  },
  {
   "cell_type": "code",
   "execution_count": 204,
   "metadata": {
    "collapsed": false
   },
   "outputs": [
    {
     "name": "stdout",
     "output_type": "stream",
     "text": [
      "{'max_depth': 2}\n",
      "Random Forest accuracy: 62.0689655172%\n"
     ]
    }
   ],
   "source": [
    "from sklearn.ensemble import RandomForestClassifier\n",
    "\n",
    "params = {'max_depth':[1, 2, 3]}\n",
    "RF = RandomForestClassifier(n_estimators=150, n_jobs=-1)\n",
    "clf = GridSearchCV(RF, params, cv=5).fit(train_x, train_y)\n",
    "print clf.best_params_\n",
    "\n",
    "random_forest_accuracy = 100*clf.score(test_x, test_y)\n",
    "print 'Random Forest accuracy: {}%'.format(random_forest_accuracy)"
   ]
  },
  {
   "cell_type": "code",
   "execution_count": 205,
   "metadata": {
    "collapsed": false
   },
   "outputs": [
    {
     "name": "stdout",
     "output_type": "stream",
     "text": [
      "{'learning_rate': 0.01}\n",
      "AdaBoosting accuracy: 60.0%\n"
     ]
    }
   ],
   "source": [
    "from sklearn.ensemble import AdaBoostClassifier\n",
    "\n",
    "params = {'learning_rate':[0.01, 0.05, 0.1, 0.5, 1]}\n",
    "Ada = AdaBoostClassifier(random_state=0, n_estimators=300)\n",
    "clf = GridSearchCV(Ada, params, cv=3).fit(train_x, train_y)\n",
    "print clf.best_params_\n",
    "\n",
    "Ada_accuracy = 100*clf.score(test_x, test_y)\n",
    "print 'AdaBoosting accuracy: {}%'.format(Ada_accuracy)"
   ]
  },
  {
   "cell_type": "code",
   "execution_count": 206,
   "metadata": {
    "collapsed": false
   },
   "outputs": [
    {
     "name": "stdout",
     "output_type": "stream",
     "text": [
      "{'learning_rate': 0.01, 'max_depth': 2}\n",
      "GradientBoosting accuracy: 57.2413793103%\n"
     ]
    }
   ],
   "source": [
    "from sklearn.ensemble import GradientBoostingClassifier\n",
    "params = {'learning_rate':[0.01, 0.1,0.5], 'max_depth':[2,3]}\n",
    "GB = GradientBoostingClassifier(n_estimators=300)\n",
    "clf = GridSearchCV(GB, params, cv=3).fit(train_x, train_y)\n",
    "print clf.best_params_\n",
    "\n",
    "GB_accuracy = 100*clf.score(test_x, test_y)\n",
    "print 'GradientBoosting accuracy: {}%'.format(GB_accuracy)"
   ]
  },
  {
   "cell_type": "code",
   "execution_count": 199,
   "metadata": {
    "collapsed": false
   },
   "outputs": [
    {
     "name": "stdout",
     "output_type": "stream",
     "text": [
      "{'kernel': 'linear', 'C': 0.1}\n",
      "SVM accuracy: 59.3103448276%\n"
     ]
    }
   ],
   "source": [
    "from sklearn.svm import SVC\n",
    "params = {'kernel':['linear', 'rbf'], 'C':[0.01, 0.05, 0.1,0.5, 1]}\n",
    "SVM = SVC()\n",
    "clf = GridSearchCV(SVM, params, cv=3).fit(train_x, train_y)\n",
    "print clf.best_params_\n",
    "\n",
    "SVM_accuracy = 100*clf.score(test_x, test_y)\n",
    "print 'SVM accuracy: {}%'.format(SVM_accuracy)"
   ]
  },
  {
   "cell_type": "code",
   "execution_count": 237,
   "metadata": {
    "collapsed": false
   },
   "outputs": [
    {
     "data": {
      "text/plain": [
       "<matplotlib.text.Text at 0x121dab710>"
      ]
     },
     "execution_count": 237,
     "metadata": {},
     "output_type": "execute_result"
    },
    {
     "data": {
      "image/png": "[encoded data removed]",
      "text/plain": [
       "<matplotlib.figure.Figure at 0x1215e3d90>"
      ]
     },
     "metadata": {},
     "output_type": "display_data"
    }
   ],
   "source": [
    "#feature importance\n",
    "clf = RandomForestClassifier(n_estimators=150, max_depth=2).fit(train_x, train_y)\n",
    "feature_importances = clf.feature_importances_\n",
    "\n",
    "feature_names = data.drop(['result', 'result_diff'], axis = 1).columns\n",
    "feature_importances = pd.Series(feature_importances, index=feature_names)\n",
    "\n",
    "ax = sns.barplot(x=feature_importances.index, y=feature_importances)\n",
    "ax.set_title('Feature Importance')"
   ]
  },
  {
   "cell_type": "markdown",
   "metadata": {},
   "source": [
    "## Next Steps:\n",
    "1. Model ensembling? (Majority vote?)\n",
    "2. More features?"
   ]
  }
 ],
 "metadata": {
  "anaconda-cloud": {},
  "kernelspec": {
   "display_name": "Python [Root]",
   "language": "python",
   "name": "Python [Root]"
  },
  "language_info": {
   "codemirror_mode": {
    "name": "ipython",
    "version": 2
   },
   "file_extension": ".py",
   "mimetype": "text/x-python",
   "name": "python",
   "nbconvert_exporter": "python",
   "pygments_lexer": "ipython2",
   "version": "2.7.12"
  }
 },
 "nbformat": 4,
 "nbformat_minor": 0
}
